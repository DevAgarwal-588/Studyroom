{
 "cells": [
  {
   "cell_type": "code",
   "execution_count": 2,
   "metadata": {},
   "outputs": [],
   "source": [
    "import cv2\n",
    "import numpy as np\n",
    "import random\n",
    "import matplotlib.pyplot as plt\n",
    "from PIL import Image\n",
    "\n",
    "# Function for denoising the image\n",
    "def denoised(img, threshold, filter_type):\n",
    "    \n",
    "    \"\"\"\n",
    "    Arguments: img::numpy.ndarray\n",
    "         threshold:: int\n",
    "       filter_type:: str\n",
    "       \n",
    "    Return: img:: numpy.ndarray\n",
    "    \"\"\"\n",
    "    \n",
    "    \"\"\"\n",
    "    Explained Code\n",
    "\n",
    "    le, br, ch = img.shape\n",
    "    b, g, r = cv2.split(img)\n",
    "    for i in range(1, le):\n",
    "        for j in range(1, br):\n",
    "            ker_b = b[i-1:i+2, j-1:j+2]\n",
    "            ker_g = g[i-1:i+2, j-1:j+2]\n",
    "            ker_r = r[i-1:i+2, j-1:j+2]\n",
    "        \n",
    "            diff_b = (abs(ker_b - b[i][j])/threshold).astype('int')\n",
    "            diff_g = (abs(ker_g - g[i][j])/threshold).astype('int')\n",
    "            diff_r = (abs(ker_r - r[i][j])/threshold).astype('int')\n",
    "        \n",
    "            pix_b = np.count_nonzero(diff_b)\n",
    "            pix_g = np.count_nonzero(diff_g)\n",
    "            pix_r = np.count_nonzero(diff_r)\n",
    "            if(filter_type == 'median'):\n",
    "                if((pix_b>2) or (pix_g>2) or (pix_r>2)):\n",
    "                    b[i][j] = np.median(ker_b)\n",
    "                    g[i][j] = np.median(ker_g)\n",
    "                    r[i][j] = np.median(ker_r)\n",
    "            if(filter_type == 'mean'):\n",
    "                if((pix_b>2) or (pix_g>2) or (pix_r>2)):\n",
    "                    b[i][j] = np.mean(ker_b)\n",
    "                    g[i][j] = np.mean(ker_g)\n",
    "                    r[i][j] = np.mean(ker_r)\n",
    "    img = cv2.merge((b,g,r))\n",
    "    return img\n",
    "    \"\"\"\n",
    "\n",
    "\n",
    "    le, br, ch = img.shape\n",
    "    ARR = np.asarray(cv2.split(img))\n",
    "    arr = np.reshape(ARR, (ch, le, br))\n",
    "    for i in range(1, le-1):\n",
    "        for j in range(1, br-1):\n",
    "            \n",
    "            kernel = arr[:,i-1:i+2, j-1:j+2]\n",
    "            \n",
    "            diff = (abs((np.subtract(kernel,np.reshape(arr[:, i, j], (3,1,1)))/threshold))).astype('int')\n",
    "    \n",
    "            pix = np.count_nonzero(np.reshape(diff,(1,3,9)), axis=0)\n",
    "            k = pix.sum(axis=1)\n",
    "\n",
    "            if(filter_type == 'median'):\n",
    "                if(any(x>2 for x in k)):\n",
    "                    B = np.median(np.reshape(kernel, (3,9)), axis = 1, keepdims=True)\n",
    "                    ARR[:, i, j] = np.reshape(B, (1,3))\n",
    "            if(filter_type == 'mean'):\n",
    "                if(any(x>2 for x in k)):\n",
    "                    B = np.median(np.reshape(kernel, (3,9)), axis = 1, keepdims=True)\n",
    "                    ARR[:, i, j] = np.reshape(B, (1,3))\n",
    "    img = cv2.merge(ARR)\n",
    "    return img\n"
   ]
  },
  {
   "cell_type": "markdown",
   "metadata": {},
   "source": [
    "<b>Part 1</b>: Corrupt the images : randomly choosing some pixels and replacing the pixel values with random/junk values.   [3 marks]\n"
   ]
  },
  {
   "cell_type": "code",
   "execution_count": 3,
   "metadata": {},
   "outputs": [],
   "source": [
    "img = cv2.imread('3.jpg', 1) \n",
    "cv2.imshow('image',img)\n",
    "k = cv2.waitKey(0)\n",
    "\n",
    "le, br, ch = img.shape\n",
    "\n",
    "p = 0.05\n",
    "for i in range(int((le*br)*p)):\n",
    "    L = random.randint(0, le-1)\n",
    "    B = random.randint(0, br-1)\n",
    "    img[L, B] = np.random.randint(0, 257,size = (1,3))"
   ]
  },
  {
   "cell_type": "markdown",
   "metadata": {},
   "source": [
    "<b>Part 2</b>: Display and save the noisy images. [2 marks]"
   ]
  },
  {
   "cell_type": "code",
   "execution_count": 4,
   "metadata": {},
   "outputs": [],
   "source": [
    "cv2.imwrite('Noisy.jpg',img)\n",
    "cv2.imshow('image',img)\n",
    "k = cv2.waitKey(0)"
   ]
  },
  {
   "cell_type": "markdown",
   "metadata": {},
   "source": [
    "<b>Part 3</b>: Read in the saved noisy images. Identify the noisy pixels by comparing them with neighboring pixels. [2 marks]\n",
    "\n",
    "<b>Part 4</b>: Replace the \"noisy pixels\" identified in part 3 with mean and median of the neighboring pixels. Display the \"denoised\" images. [3 marks]\n"
   ]
  },
  {
   "cell_type": "markdown",
   "metadata": {},
   "source": [
    "<h5>Median</h5>"
   ]
  },
  {
   "cell_type": "code",
   "execution_count": 5,
   "metadata": {},
   "outputs": [],
   "source": [
    "img = cv2.imread('Noisy.jpg', 1)\n",
    "img = denoised(img, 10, 'median')"
   ]
  },
  {
   "cell_type": "code",
   "execution_count": 6,
   "metadata": {},
   "outputs": [],
   "source": [
    "cv2.imshow('image',img)\n",
    "k = cv2.waitKey(0)"
   ]
  },
  {
   "cell_type": "markdown",
   "metadata": {},
   "source": [
    "<h5>Mean</h5>"
   ]
  },
  {
   "cell_type": "code",
   "execution_count": 7,
   "metadata": {},
   "outputs": [],
   "source": [
    "img = cv2.imread('Noisy.jpg', 1)\n",
    "img = denoised(img, 10, 'mean')"
   ]
  },
  {
   "cell_type": "code",
   "execution_count": 8,
   "metadata": {},
   "outputs": [],
   "source": [
    "cv2.imshow('image',img)\n",
    "k = cv2.waitKey(0)"
   ]
  }
 ],
 "metadata": {
  "kernelspec": {
   "display_name": "Python 3",
   "language": "python",
   "name": "python3"
  },
  "language_info": {
   "codemirror_mode": {
    "name": "ipython",
    "version": 3
   },
   "file_extension": ".py",
   "mimetype": "text/x-python",
   "name": "python",
   "nbconvert_exporter": "python",
   "pygments_lexer": "ipython3",
   "version": "3.8.2"
  }
 },
 "nbformat": 4,
 "nbformat_minor": 4
}
